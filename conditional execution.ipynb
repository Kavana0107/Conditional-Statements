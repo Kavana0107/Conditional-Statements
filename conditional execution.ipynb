{
 "cells": [
  {
   "cell_type": "markdown",
   "id": "becff878",
   "metadata": {},
   "source": [
    "# Gross pay overtime\n",
    "**Instructions**\n",
    "Rewrite the gross pay project program to give the employee 1.5 times the hourly rate for hours worked above 40 hours\n",
    "Here again the program prompts the user hours and rate per hour to compute gross pay. You need to take into account that the result has exactly two digits after the decimal place \n",
    "\n",
    "Hint: Overtime = hour-40\n",
    "> Input :\n",
    "> Enter hours = 45,\n",
    "> Enter rate = 5\n",
    "\n",
    ">output: Rate = "
   ]
  },
  {
   "cell_type": "code",
   "execution_count": 14,
   "id": "088ce869",
   "metadata": {},
   "outputs": [
    {
     "name": "stdout",
     "output_type": "stream",
     "text": [
      "Welcome to gross pay project\n",
      "Enter the Number of hours worked: \n",
      "45\n",
      "Hourly rate for hours worked\n",
      "5\n",
      "Pay: 337.5\n"
     ]
    }
   ],
   "source": [
    "print(\"Welcome to gross pay project\")\n",
    "hours = float(input(\"Enter the Number of hours worked: \\n\"))\n",
    "rate = float(input(\"Hourly rate for hours worked\\n\"))\n",
    "overtime = 0\n",
    "pay = round(hours*rate,2)\n",
    "if hours>40:\n",
    "    overtime = hours - 40\n",
    "    pay = 1.5*pay\n",
    "    print(f\"Pay: {pay}\")\n",
    "else:\n",
    "    print(f\"Pay: {pay}\")\n",
    "    \n",
    "\n",
    "    "
   ]
  },
  {
   "cell_type": "code",
   "execution_count": 18,
   "id": "bf5a2c7b",
   "metadata": {},
   "outputs": [
    {
     "name": "stdout",
     "output_type": "stream",
     "text": [
      "Welcome to gross pay project\n",
      "Enter the Number of hours worked: \n",
      "68\n",
      "Hourly rate for hours worked\n",
      "5.5\n",
      "Pay: 561.0\n"
     ]
    }
   ],
   "source": [
    "print(\"Welcome to gross pay project\")\n",
    "hours = float(input(\"Enter the Number of hours worked: \\n\"))\n",
    "rate = float(input(\"Hourly rate for hours worked\\n\"))\n",
    "overtime = 0\n",
    "if hours<40:\n",
    "    pay = round(hours*rate,2)\n",
    "    print(f\"Pay: {pay}\")\n",
    "else:\n",
    "    overtime = hours-40\n",
    "    pay = round((40 + overtime)*rate*1.5,2)\n",
    "    print(f\"Pay: {pay}\")"
   ]
  },
  {
   "cell_type": "markdown",
   "id": "60f674fe",
   "metadata": {},
   "source": [
    "# Leap Year\n",
    "**Leap year rules: How to calculate Leap Years**\n",
    "- The year must be evenly divisible by 4\n",
    "- if the year can also be evenly divisible by 100, It is not a leap year\n",
    "- The year is also evenly divisible by 400. Then it is a leap year"
   ]
  },
  {
   "cell_type": "code",
   "execution_count": 32,
   "id": "1fce8b5e",
   "metadata": {},
   "outputs": [
    {
     "name": "stdout",
     "output_type": "stream",
     "text": [
      "Leap Year Calculator!\n",
      "Enter the Year: \n",
      "2023\n",
      "Not a Leap Year\n"
     ]
    }
   ],
   "source": [
    "print(\"Leap Year Calculator!\")\n",
    "year = int(input(\"Enter the Year: \\n\"))\n",
    "if year%4==0 and year%100 != 0:\n",
    "    print(\"Leap year\")\n",
    "else:\n",
    "    print(\"Not a Leap Year\")\n",
    "        "
   ]
  },
  {
   "cell_type": "code",
   "execution_count": 30,
   "id": "3c9c4267",
   "metadata": {},
   "outputs": [
    {
     "name": "stdout",
     "output_type": "stream",
     "text": [
      "Leap Year Calculator!\n",
      "Enter the Year: \n",
      "2088\n",
      "Leap Year\n"
     ]
    }
   ],
   "source": [
    "#or \n",
    "print(\"Leap Year Calculator!\")\n",
    "year = int(input(\"Enter the Year: \\n\"))\n",
    "if year%4==0:\n",
    "    if year%100 == 0:\n",
    "        if year%400 == 0:\n",
    "            print(\"Leap year\")\n",
    "        else:\n",
    "            print(\"Not a Leap Year\")\n",
    "    else:\n",
    "        print(\"Leap Year\")\n",
    "else:\n",
    "    print(\"Not a Leap year\")"
   ]
  },
  {
   "cell_type": "markdown",
   "id": "81cf5f8a",
   "metadata": {},
   "source": [
    "# Love Calculator\n"
   ]
  },
  {
   "cell_type": "markdown",
   "id": "218121af",
   "metadata": {},
   "source": [
    "# Instructions\n",
    "Write a program to teset the compatibility between two people\n",
    "\n",
    "Take both people's names and check for the number of times the letters in the word TRUE occurs. Then check for the number of times the letters in the word LOVE occurs. Then combine these numbers to make a digit number\n",
    "\n",
    "- For Love Scores less than 20 or greater than 85, the message should be:\n",
    "\"Your score is **x**, you go together like coke and mentos\"\n",
    "\n",
    "- For Love Scores between 40 and 70, the message should be:\n",
    "\"Your score is **y**, you are alright together\"\n",
    "\n",
    "- Otherwise, the message will just be score\n",
    "\"Your score is **z**\"\n",
    "\n",
    "> Input: name1=\"kavana\", name2 =\"Vachana\"\n",
    "\n",
    "> Output: Your score is 33\n",
    "\n",
    "# Hint\n",
    "1. The lower() function changes all the letters in a string to lower case\n",
    "2. The count() function will give you the number of times a letter occurs in a string "
   ]
  },
  {
   "cell_type": "code",
   "execution_count": 40,
   "id": "07de713d",
   "metadata": {},
   "outputs": [
    {
     "name": "stdout",
     "output_type": "stream",
     "text": [
      "Welcome to Love Calculator\n",
      "Enter your name: \n",
      "kavana\n",
      "Enter your lover name: \n",
      "vachana\n",
      "2\n",
      "Your score is 2 , you go together like coke and mentos\n"
     ]
    }
   ],
   "source": [
    "print(\"Welcome to Love Calculator\")\n",
    "name1 = input(\"Enter your name: \\n\")\n",
    "name2 = input(\"Enter your lover name: \\n\")\n",
    "\n",
    "combined_name = name1 + name2\n",
    "lower_case_name = combined_name.lower()\n",
    "\n",
    "t = lower_case_name.count(\"t\")\n",
    "r = lower_case_name.count(\"r\")\n",
    "u = lower_case_name.count(\"u\")\n",
    "e = lower_case_name.count(\"e\")\n",
    "\n",
    "true = t + r+ u + e\n",
    "\n",
    "l = lower_case_name.count(\"l\")\n",
    "o = lower_case_name.count(\"o\")\n",
    "v = lower_case_name.count(\"v\")\n",
    "e = lower_case_name.count(\"e\")\n",
    "\n",
    "love = l + o + v + e\n",
    "\n",
    "love_score = str(true) + str(love)\n",
    "love_score = int(love_score)\n",
    "print(love_score)\n",
    "\n",
    "if love_score < 10 or love_score> 85:\n",
    "    print(f\"Your score is {love_score} , you go together like coke and mentos\")\n",
    "elif love_score >=40 and love_score <= 70:\n",
    "    print(f\"Your score is {love_score}, you are alright together\")\n",
    "else:\n",
    "    print(f\"Your score is {love_score}\")\n",
    "    "
   ]
  },
  {
   "cell_type": "markdown",
   "id": "bbfa8ed4",
   "metadata": {},
   "source": [
    "# Gross Pay with Exception\n",
    "\n",
    "**Instructions**\n",
    "\n",
    "Rewrite Gross pay program using try and except so that your program handles non - numeric input gracefully by printing a message and exiting the program\n",
    "\n",
    ">Input: Enter Hours, Enter Rate\n",
    "\n",
    ">Output: Error, please enter numeric input for rate"
   ]
  },
  {
   "cell_type": "code",
   "execution_count": 48,
   "id": "66fe6910",
   "metadata": {},
   "outputs": [
    {
     "name": "stdout",
     "output_type": "stream",
     "text": [
      "Enter Hours: \n",
      "45\n",
      "Enter Rate: \n",
      "vnmf\n",
      "Error, please enter numeric input for rate\n",
      "\n",
      "Program executed correctly\n"
     ]
    }
   ],
   "source": [
    "try:\n",
    "    hours = int(input(\"Enter Hours: \\n\"))\n",
    "    rate = int(input(\"Enter Rate: \\n\"))\n",
    "except:\n",
    "    print(\"Error, please enter numeric input for rate\\n\")\n",
    "    quit()\n",
    "else:\n",
    "    if hours>= 40:\n",
    "        overtime = hours - 40 \n",
    "        rate= 1.5*rate*(40 + overtime)\n",
    "        print(f\"Rate: {rate}\")\n",
    "    else:\n",
    "        rate = hours*rate\n",
    "        print(f\"Rate: {rate}\")\n",
    "finally:\n",
    "    print(\"Program executed correctly\")"
   ]
  },
  {
   "cell_type": "markdown",
   "id": "c1ae925a",
   "metadata": {},
   "source": [
    "# Score checker\n",
    "**Instructions**\n",
    "Write a program for a score between 0.0 and 1.0. If the is out of range,print an error message.\n",
    "If the score is between 0.0 and 1.0 print a grade using the following table:\n",
    "\n",
    "Grade   |  Score\n",
    "\n",
    "A       |   >=0.9\n",
    "\n",
    "B       |   >=0.8\n",
    "\n",
    "C       |   >=0.7\n",
    "\n",
    "D       |   >=0.6\n",
    "\n",
    "F       |   <0.6"
   ]
  },
  {
   "cell_type": "code",
   "execution_count": 12,
   "id": "4aef0e1d",
   "metadata": {},
   "outputs": [
    {
     "name": "stdout",
     "output_type": "stream",
     "text": [
      "Enter the Score\n",
      "0.7\n",
      "Grade:C\n"
     ]
    }
   ],
   "source": [
    "try:\n",
    "    score = float(input(\"Enter the Score\\n\"))\n",
    "except:\n",
    "    print(\"Bad Score\")\n",
    "else:\n",
    "    if score<= 1 and score>=0.9:\n",
    "        print(\"Grade:A\")\n",
    "    elif score>= 0.8 and score<=0.9:\n",
    "        print(\"Grade:B\")\n",
    "    elif score>= 0.7 and score<=0.8:\n",
    "        print(\"Grade:C\")\n",
    "    elif score>= 0.6 and score<=0.7:\n",
    "        print(\"Grade:D\")\n",
    "    else:\n",
    "        print(\"Grade:E\")"
   ]
  },
  {
   "cell_type": "code",
   "execution_count": null,
   "id": "61d5d96c",
   "metadata": {},
   "outputs": [],
   "source": []
  }
 ],
 "metadata": {
  "kernelspec": {
   "display_name": "Python 3 (ipykernel)",
   "language": "python",
   "name": "python3"
  },
  "language_info": {
   "codemirror_mode": {
    "name": "ipython",
    "version": 3
   },
   "file_extension": ".py",
   "mimetype": "text/x-python",
   "name": "python",
   "nbconvert_exporter": "python",
   "pygments_lexer": "ipython3",
   "version": "3.9.13"
  }
 },
 "nbformat": 4,
 "nbformat_minor": 5
}
